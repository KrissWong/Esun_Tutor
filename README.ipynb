{
 "cells": [
  {
   "cell_type": "markdown",
   "metadata": {},
   "source": [
    "# 簡介\n",
    "這是一系列的課程紀錄，並不侷限於任何語言，關鍵在於要解決什麼樣的應用．這裡主要是透過Jupyter notebook，任何人只要能使用這個介面就都能讀取檔案使用\n",
    "\n",
    "## 聯絡我\n",
    "aha <ntuaha@gmail.com>"
   ]
  }
 ],
 "metadata": {
  "kernelspec": {
   "display_name": "Python 3",
   "language": "python",
   "name": "python3"
  },
  "language_info": {
   "codemirror_mode": {
    "name": "ipython",
    "version": 3
   },
   "file_extension": ".py",
   "mimetype": "text/x-python",
   "name": "python",
   "nbconvert_exporter": "python",
   "pygments_lexer": "ipython3",
   "version": "3.5.2"
  }
 },
 "nbformat": 4,
 "nbformat_minor": 1
}
